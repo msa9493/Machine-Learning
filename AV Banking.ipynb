{
 "cells": [
  {
   "cell_type": "code",
   "execution_count": 3,
   "metadata": {},
   "outputs": [],
   "source": [
    "import pandas as pd\n",
    "import seaborn as sns\n",
    "import matplotlib.pyplot as plt\n",
    "\n",
    "%matplotlib inline\n",
    "plt.style.use('bmh')"
   ]
  },
  {
   "cell_type": "markdown",
   "metadata": {},
   "source": [
    "## Load training data"
   ]
  },
  {
   "cell_type": "code",
   "execution_count": 2,
   "metadata": {},
   "outputs": [],
   "source": [
    "train = pd.read_csv(\"C:/Users/zenit/Desktop/Sahal backup/Northeastern University/Datasets/AV Banking/train.csv\")"
   ]
  },
  {
   "cell_type": "code",
   "execution_count": 3,
   "metadata": {},
   "outputs": [
    {
     "data": {
      "text/html": [
       "<div>\n",
       "<style scoped>\n",
       "    .dataframe tbody tr th:only-of-type {\n",
       "        vertical-align: middle;\n",
       "    }\n",
       "\n",
       "    .dataframe tbody tr th {\n",
       "        vertical-align: top;\n",
       "    }\n",
       "\n",
       "    .dataframe thead th {\n",
       "        text-align: right;\n",
       "    }\n",
       "</style>\n",
       "<table border=\"1\" class=\"dataframe\">\n",
       "  <thead>\n",
       "    <tr style=\"text-align: right;\">\n",
       "      <th></th>\n",
       "      <th>Loan_ID</th>\n",
       "      <th>Loan_Amount_Requested</th>\n",
       "      <th>Length_Employed</th>\n",
       "      <th>Home_Owner</th>\n",
       "      <th>Annual_Income</th>\n",
       "      <th>Income_Verified</th>\n",
       "      <th>Purpose_Of_Loan</th>\n",
       "      <th>Debt_To_Income</th>\n",
       "      <th>Inquiries_Last_6Mo</th>\n",
       "      <th>Months_Since_Deliquency</th>\n",
       "      <th>Number_Open_Accounts</th>\n",
       "      <th>Total_Accounts</th>\n",
       "      <th>Gender</th>\n",
       "      <th>Interest_Rate</th>\n",
       "    </tr>\n",
       "  </thead>\n",
       "  <tbody>\n",
       "    <tr>\n",
       "      <th>0</th>\n",
       "      <td>10000001</td>\n",
       "      <td>7,000</td>\n",
       "      <td>&lt; 1 year</td>\n",
       "      <td>Rent</td>\n",
       "      <td>68000.0</td>\n",
       "      <td>not verified</td>\n",
       "      <td>car</td>\n",
       "      <td>18.37</td>\n",
       "      <td>0</td>\n",
       "      <td>NaN</td>\n",
       "      <td>9</td>\n",
       "      <td>14</td>\n",
       "      <td>Female</td>\n",
       "      <td>1</td>\n",
       "    </tr>\n",
       "    <tr>\n",
       "      <th>1</th>\n",
       "      <td>10000002</td>\n",
       "      <td>30,000</td>\n",
       "      <td>4 years</td>\n",
       "      <td>Mortgage</td>\n",
       "      <td>NaN</td>\n",
       "      <td>VERIFIED - income</td>\n",
       "      <td>debt_consolidation</td>\n",
       "      <td>14.93</td>\n",
       "      <td>0</td>\n",
       "      <td>17.0</td>\n",
       "      <td>12</td>\n",
       "      <td>24</td>\n",
       "      <td>Female</td>\n",
       "      <td>3</td>\n",
       "    </tr>\n",
       "    <tr>\n",
       "      <th>2</th>\n",
       "      <td>10000003</td>\n",
       "      <td>24,725</td>\n",
       "      <td>7 years</td>\n",
       "      <td>Mortgage</td>\n",
       "      <td>75566.4</td>\n",
       "      <td>VERIFIED - income source</td>\n",
       "      <td>debt_consolidation</td>\n",
       "      <td>15.88</td>\n",
       "      <td>0</td>\n",
       "      <td>NaN</td>\n",
       "      <td>12</td>\n",
       "      <td>16</td>\n",
       "      <td>Male</td>\n",
       "      <td>3</td>\n",
       "    </tr>\n",
       "    <tr>\n",
       "      <th>3</th>\n",
       "      <td>10000004</td>\n",
       "      <td>16,000</td>\n",
       "      <td>&lt; 1 year</td>\n",
       "      <td>NaN</td>\n",
       "      <td>56160.0</td>\n",
       "      <td>VERIFIED - income source</td>\n",
       "      <td>debt_consolidation</td>\n",
       "      <td>14.34</td>\n",
       "      <td>3</td>\n",
       "      <td>NaN</td>\n",
       "      <td>16</td>\n",
       "      <td>22</td>\n",
       "      <td>Male</td>\n",
       "      <td>3</td>\n",
       "    </tr>\n",
       "    <tr>\n",
       "      <th>4</th>\n",
       "      <td>10000005</td>\n",
       "      <td>17,000</td>\n",
       "      <td>8 years</td>\n",
       "      <td>Own</td>\n",
       "      <td>96000.0</td>\n",
       "      <td>VERIFIED - income source</td>\n",
       "      <td>debt_consolidation</td>\n",
       "      <td>22.17</td>\n",
       "      <td>1</td>\n",
       "      <td>NaN</td>\n",
       "      <td>19</td>\n",
       "      <td>30</td>\n",
       "      <td>Female</td>\n",
       "      <td>1</td>\n",
       "    </tr>\n",
       "  </tbody>\n",
       "</table>\n",
       "</div>"
      ],
      "text/plain": [
       "    Loan_ID Loan_Amount_Requested Length_Employed Home_Owner  Annual_Income  \\\n",
       "0  10000001                 7,000        < 1 year       Rent        68000.0   \n",
       "1  10000002                30,000         4 years   Mortgage            NaN   \n",
       "2  10000003                24,725         7 years   Mortgage        75566.4   \n",
       "3  10000004                16,000        < 1 year        NaN        56160.0   \n",
       "4  10000005                17,000         8 years        Own        96000.0   \n",
       "\n",
       "            Income_Verified     Purpose_Of_Loan  Debt_To_Income  \\\n",
       "0              not verified                 car           18.37   \n",
       "1         VERIFIED - income  debt_consolidation           14.93   \n",
       "2  VERIFIED - income source  debt_consolidation           15.88   \n",
       "3  VERIFIED - income source  debt_consolidation           14.34   \n",
       "4  VERIFIED - income source  debt_consolidation           22.17   \n",
       "\n",
       "   Inquiries_Last_6Mo  Months_Since_Deliquency  Number_Open_Accounts  \\\n",
       "0                   0                      NaN                     9   \n",
       "1                   0                     17.0                    12   \n",
       "2                   0                      NaN                    12   \n",
       "3                   3                      NaN                    16   \n",
       "4                   1                      NaN                    19   \n",
       "\n",
       "   Total_Accounts  Gender  Interest_Rate  \n",
       "0              14  Female              1  \n",
       "1              24  Female              3  \n",
       "2              16    Male              3  \n",
       "3              22    Male              3  \n",
       "4              30  Female              1  "
      ]
     },
     "execution_count": 3,
     "metadata": {},
     "output_type": "execute_result"
    }
   ],
   "source": [
    "train.head()"
   ]
  },
  {
   "cell_type": "code",
   "execution_count": 7,
   "metadata": {},
   "outputs": [
    {
     "data": {
      "text/plain": [
       "(164309, 14)"
      ]
     },
     "execution_count": 7,
     "metadata": {},
     "output_type": "execute_result"
    }
   ],
   "source": [
    "train.shape"
   ]
  },
  {
   "cell_type": "code",
   "execution_count": 62,
   "metadata": {},
   "outputs": [
    {
     "data": {
      "text/plain": [
       "<matplotlib.axes._subplots.AxesSubplot at 0x2ac66540978>"
      ]
     },
     "execution_count": 62,
     "metadata": {},
     "output_type": "execute_result"
    },
    {
     "data": {
      "image/png": "[encoded data removed]",
      "text/plain": [
       "<Figure size 432x288 with 2 Axes>"
      ]
     },
     "metadata": {
      "needs_background": "light"
     },
     "output_type": "display_data"
    }
   ],
   "source": [
    "sns.heatmap(train.corr())"
   ]
  },
  {
   "cell_type": "markdown",
   "metadata": {},
   "source": [
    "## Check the column null values"
   ]
  },
  {
   "cell_type": "code",
   "execution_count": 5,
   "metadata": {},
   "outputs": [
    {
     "name": "stdout",
     "output_type": "stream",
     "text": [
      "<class 'pandas.core.frame.DataFrame'>\n",
      "RangeIndex: 164309 entries, 0 to 164308\n",
      "Data columns (total 14 columns):\n",
      " #   Column                   Non-Null Count   Dtype  \n",
      "---  ------                   --------------   -----  \n",
      " 0   Loan_ID                  164309 non-null  int64  \n",
      " 1   Loan_Amount_Requested    164309 non-null  object \n",
      " 2   Length_Employed          156938 non-null  object \n",
      " 3   Home_Owner               138960 non-null  object \n",
      " 4   Annual_Income            139207 non-null  float64\n",
      " 5   Income_Verified          164309 non-null  object \n",
      " 6   Purpose_Of_Loan          164309 non-null  object \n",
      " 7   Debt_To_Income           164309 non-null  float64\n",
      " 8   Inquiries_Last_6Mo       164309 non-null  int64  \n",
      " 9   Months_Since_Deliquency  75930 non-null   float64\n",
      " 10  Number_Open_Accounts     164309 non-null  int64  \n",
      " 11  Total_Accounts           164309 non-null  int64  \n",
      " 12  Gender                   164309 non-null  object \n",
      " 13  Interest_Rate            164309 non-null  int64  \n",
      "dtypes: float64(3), int64(5), object(6)\n",
      "memory usage: 17.6+ MB\n"
     ]
    }
   ],
   "source": [
    "train.info()"
   ]
  },
  {
   "cell_type": "code",
   "execution_count": 8,
   "metadata": {},
   "outputs": [
    {
     "data": {
      "text/plain": [
       "Loan_ID                    0.000000\n",
       "Loan_Amount_Requested      0.000000\n",
       "Length_Employed            0.044861\n",
       "Home_Owner                 0.154276\n",
       "Annual_Income              0.152773\n",
       "Income_Verified            0.000000\n",
       "Purpose_Of_Loan            0.000000\n",
       "Debt_To_Income             0.000000\n",
       "Inquiries_Last_6Mo         0.000000\n",
       "Months_Since_Deliquency    0.537883\n",
       "Number_Open_Accounts       0.000000\n",
       "Total_Accounts             0.000000\n",
       "Gender                     0.000000\n",
       "Interest_Rate              0.000000\n",
       "dtype: float64"
      ]
     },
     "execution_count": 8,
     "metadata": {},
     "output_type": "execute_result"
    }
   ],
   "source": [
    "train.isnull().sum()/train.shape[0]"
   ]
  },
  {
   "cell_type": "markdown",
   "metadata": {},
   "source": [
    "## 4 columns have null values\n",
    "\n",
    "1. Length_Employed - 4%\n",
    "2. Home_Owner - 15%\n",
    "3. Annual_Income - 15%\n",
    "4. Months_Since_Deliquency - 53%"
   ]
  },
  {
   "cell_type": "markdown",
   "metadata": {},
   "source": [
    "### Getting count of non-null values in a column"
   ]
  },
  {
   "cell_type": "code",
   "execution_count": 11,
   "metadata": {},
   "outputs": [
    {
     "data": {
      "text/plain": [
       "156938"
      ]
     },
     "execution_count": 11,
     "metadata": {},
     "output_type": "execute_result"
    }
   ],
   "source": [
    "train['Length_Employed'].count()"
   ]
  },
  {
   "cell_type": "markdown",
   "metadata": {},
   "source": [
    "## Check the null values in \"Month_Since_Deliquency\" column"
   ]
  },
  {
   "cell_type": "code",
   "execution_count": 12,
   "metadata": {},
   "outputs": [
    {
     "data": {
      "text/html": [
       "<div>\n",
       "<style scoped>\n",
       "    .dataframe tbody tr th:only-of-type {\n",
       "        vertical-align: middle;\n",
       "    }\n",
       "\n",
       "    .dataframe tbody tr th {\n",
       "        vertical-align: top;\n",
       "    }\n",
       "\n",
       "    .dataframe thead th {\n",
       "        text-align: right;\n",
       "    }\n",
       "</style>\n",
       "<table border=\"1\" class=\"dataframe\">\n",
       "  <thead>\n",
       "    <tr style=\"text-align: right;\">\n",
       "      <th></th>\n",
       "      <th>Loan_ID</th>\n",
       "      <th>Loan_Amount_Requested</th>\n",
       "      <th>Length_Employed</th>\n",
       "      <th>Home_Owner</th>\n",
       "      <th>Annual_Income</th>\n",
       "      <th>Income_Verified</th>\n",
       "      <th>Purpose_Of_Loan</th>\n",
       "      <th>Debt_To_Income</th>\n",
       "      <th>Inquiries_Last_6Mo</th>\n",
       "      <th>Months_Since_Deliquency</th>\n",
       "      <th>Number_Open_Accounts</th>\n",
       "      <th>Total_Accounts</th>\n",
       "      <th>Gender</th>\n",
       "      <th>Interest_Rate</th>\n",
       "    </tr>\n",
       "  </thead>\n",
       "  <tbody>\n",
       "    <tr>\n",
       "      <th>0</th>\n",
       "      <td>10000001</td>\n",
       "      <td>7,000</td>\n",
       "      <td>&lt; 1 year</td>\n",
       "      <td>Rent</td>\n",
       "      <td>68000.0</td>\n",
       "      <td>not verified</td>\n",
       "      <td>car</td>\n",
       "      <td>18.37</td>\n",
       "      <td>0</td>\n",
       "      <td>NaN</td>\n",
       "      <td>9</td>\n",
       "      <td>14</td>\n",
       "      <td>Female</td>\n",
       "      <td>1</td>\n",
       "    </tr>\n",
       "    <tr>\n",
       "      <th>2</th>\n",
       "      <td>10000003</td>\n",
       "      <td>24,725</td>\n",
       "      <td>7 years</td>\n",
       "      <td>Mortgage</td>\n",
       "      <td>75566.4</td>\n",
       "      <td>VERIFIED - income source</td>\n",
       "      <td>debt_consolidation</td>\n",
       "      <td>15.88</td>\n",
       "      <td>0</td>\n",
       "      <td>NaN</td>\n",
       "      <td>12</td>\n",
       "      <td>16</td>\n",
       "      <td>Male</td>\n",
       "      <td>3</td>\n",
       "    </tr>\n",
       "    <tr>\n",
       "      <th>3</th>\n",
       "      <td>10000004</td>\n",
       "      <td>16,000</td>\n",
       "      <td>&lt; 1 year</td>\n",
       "      <td>NaN</td>\n",
       "      <td>56160.0</td>\n",
       "      <td>VERIFIED - income source</td>\n",
       "      <td>debt_consolidation</td>\n",
       "      <td>14.34</td>\n",
       "      <td>3</td>\n",
       "      <td>NaN</td>\n",
       "      <td>16</td>\n",
       "      <td>22</td>\n",
       "      <td>Male</td>\n",
       "      <td>3</td>\n",
       "    </tr>\n",
       "    <tr>\n",
       "      <th>4</th>\n",
       "      <td>10000005</td>\n",
       "      <td>17,000</td>\n",
       "      <td>8 years</td>\n",
       "      <td>Own</td>\n",
       "      <td>96000.0</td>\n",
       "      <td>VERIFIED - income source</td>\n",
       "      <td>debt_consolidation</td>\n",
       "      <td>22.17</td>\n",
       "      <td>1</td>\n",
       "      <td>NaN</td>\n",
       "      <td>19</td>\n",
       "      <td>30</td>\n",
       "      <td>Female</td>\n",
       "      <td>1</td>\n",
       "    </tr>\n",
       "    <tr>\n",
       "      <th>5</th>\n",
       "      <td>10000006</td>\n",
       "      <td>4,500</td>\n",
       "      <td>2 years</td>\n",
       "      <td>Rent</td>\n",
       "      <td>30000.0</td>\n",
       "      <td>VERIFIED - income source</td>\n",
       "      <td>credit_card</td>\n",
       "      <td>10.88</td>\n",
       "      <td>1</td>\n",
       "      <td>NaN</td>\n",
       "      <td>12</td>\n",
       "      <td>15</td>\n",
       "      <td>Male</td>\n",
       "      <td>3</td>\n",
       "    </tr>\n",
       "    <tr>\n",
       "      <th>...</th>\n",
       "      <td>...</td>\n",
       "      <td>...</td>\n",
       "      <td>...</td>\n",
       "      <td>...</td>\n",
       "      <td>...</td>\n",
       "      <td>...</td>\n",
       "      <td>...</td>\n",
       "      <td>...</td>\n",
       "      <td>...</td>\n",
       "      <td>...</td>\n",
       "      <td>...</td>\n",
       "      <td>...</td>\n",
       "      <td>...</td>\n",
       "      <td>...</td>\n",
       "    </tr>\n",
       "    <tr>\n",
       "      <th>164299</th>\n",
       "      <td>10164300</td>\n",
       "      <td>3,000</td>\n",
       "      <td>3 years</td>\n",
       "      <td>Mortgage</td>\n",
       "      <td>45000.0</td>\n",
       "      <td>VERIFIED - income source</td>\n",
       "      <td>major_purchase</td>\n",
       "      <td>8.43</td>\n",
       "      <td>2</td>\n",
       "      <td>NaN</td>\n",
       "      <td>25</td>\n",
       "      <td>36</td>\n",
       "      <td>Male</td>\n",
       "      <td>2</td>\n",
       "    </tr>\n",
       "    <tr>\n",
       "      <th>164301</th>\n",
       "      <td>10164302</td>\n",
       "      <td>16,000</td>\n",
       "      <td>6 years</td>\n",
       "      <td>Mortgage</td>\n",
       "      <td>NaN</td>\n",
       "      <td>VERIFIED - income</td>\n",
       "      <td>debt_consolidation</td>\n",
       "      <td>12.48</td>\n",
       "      <td>4</td>\n",
       "      <td>NaN</td>\n",
       "      <td>10</td>\n",
       "      <td>18</td>\n",
       "      <td>Male</td>\n",
       "      <td>2</td>\n",
       "    </tr>\n",
       "    <tr>\n",
       "      <th>164304</th>\n",
       "      <td>10164305</td>\n",
       "      <td>20,725</td>\n",
       "      <td>10+ years</td>\n",
       "      <td>Rent</td>\n",
       "      <td>NaN</td>\n",
       "      <td>VERIFIED - income source</td>\n",
       "      <td>credit_card</td>\n",
       "      <td>13.56</td>\n",
       "      <td>0</td>\n",
       "      <td>NaN</td>\n",
       "      <td>13</td>\n",
       "      <td>16</td>\n",
       "      <td>Male</td>\n",
       "      <td>2</td>\n",
       "    </tr>\n",
       "    <tr>\n",
       "      <th>164306</th>\n",
       "      <td>10164307</td>\n",
       "      <td>20,250</td>\n",
       "      <td>10+ years</td>\n",
       "      <td>Mortgage</td>\n",
       "      <td>NaN</td>\n",
       "      <td>VERIFIED - income</td>\n",
       "      <td>credit_card</td>\n",
       "      <td>18.17</td>\n",
       "      <td>1</td>\n",
       "      <td>NaN</td>\n",
       "      <td>17</td>\n",
       "      <td>30</td>\n",
       "      <td>Male</td>\n",
       "      <td>1</td>\n",
       "    </tr>\n",
       "    <tr>\n",
       "      <th>164308</th>\n",
       "      <td>10164309</td>\n",
       "      <td>9,250</td>\n",
       "      <td>10+ years</td>\n",
       "      <td>Rent</td>\n",
       "      <td>NaN</td>\n",
       "      <td>VERIFIED - income</td>\n",
       "      <td>credit_card</td>\n",
       "      <td>19.44</td>\n",
       "      <td>1</td>\n",
       "      <td>NaN</td>\n",
       "      <td>5</td>\n",
       "      <td>9</td>\n",
       "      <td>Female</td>\n",
       "      <td>2</td>\n",
       "    </tr>\n",
       "  </tbody>\n",
       "</table>\n",
       "<p>88379 rows × 14 columns</p>\n",
       "</div>"
      ],
      "text/plain": [
       "         Loan_ID Loan_Amount_Requested Length_Employed Home_Owner  \\\n",
       "0       10000001                 7,000        < 1 year       Rent   \n",
       "2       10000003                24,725         7 years   Mortgage   \n",
       "3       10000004                16,000        < 1 year        NaN   \n",
       "4       10000005                17,000         8 years        Own   \n",
       "5       10000006                 4,500         2 years       Rent   \n",
       "...          ...                   ...             ...        ...   \n",
       "164299  10164300                 3,000         3 years   Mortgage   \n",
       "164301  10164302                16,000         6 years   Mortgage   \n",
       "164304  10164305                20,725       10+ years       Rent   \n",
       "164306  10164307                20,250       10+ years   Mortgage   \n",
       "164308  10164309                 9,250       10+ years       Rent   \n",
       "\n",
       "        Annual_Income           Income_Verified     Purpose_Of_Loan  \\\n",
       "0             68000.0              not verified                 car   \n",
       "2             75566.4  VERIFIED - income source  debt_consolidation   \n",
       "3             56160.0  VERIFIED - income source  debt_consolidation   \n",
       "4             96000.0  VERIFIED - income source  debt_consolidation   \n",
       "5             30000.0  VERIFIED - income source         credit_card   \n",
       "...               ...                       ...                 ...   \n",
       "164299        45000.0  VERIFIED - income source      major_purchase   \n",
       "164301            NaN         VERIFIED - income  debt_consolidation   \n",
       "164304            NaN  VERIFIED - income source         credit_card   \n",
       "164306            NaN         VERIFIED - income         credit_card   \n",
       "164308            NaN         VERIFIED - income         credit_card   \n",
       "\n",
       "        Debt_To_Income  Inquiries_Last_6Mo  Months_Since_Deliquency  \\\n",
       "0                18.37                   0                      NaN   \n",
       "2                15.88                   0                      NaN   \n",
       "3                14.34                   3                      NaN   \n",
       "4                22.17                   1                      NaN   \n",
       "5                10.88                   1                      NaN   \n",
       "...                ...                 ...                      ...   \n",
       "164299            8.43                   2                      NaN   \n",
       "164301           12.48                   4                      NaN   \n",
       "164304           13.56                   0                      NaN   \n",
       "164306           18.17                   1                      NaN   \n",
       "164308           19.44                   1                      NaN   \n",
       "\n",
       "        Number_Open_Accounts  Total_Accounts  Gender  Interest_Rate  \n",
       "0                          9              14  Female              1  \n",
       "2                         12              16    Male              3  \n",
       "3                         16              22    Male              3  \n",
       "4                         19              30  Female              1  \n",
       "5                         12              15    Male              3  \n",
       "...                      ...             ...     ...            ...  \n",
       "164299                    25              36    Male              2  \n",
       "164301                    10              18    Male              2  \n",
       "164304                    13              16    Male              2  \n",
       "164306                    17              30    Male              1  \n",
       "164308                     5               9  Female              2  \n",
       "\n",
       "[88379 rows x 14 columns]"
      ]
     },
     "execution_count": 12,
     "metadata": {},
     "output_type": "execute_result"
    }
   ],
   "source": [
    "train[train['Months_Since_Deliquency'].isnull()]"
   ]
  },
  {
   "cell_type": "markdown",
   "metadata": {},
   "source": [
    "## Drop Months_Since_Deliquency column"
   ]
  },
  {
   "cell_type": "code",
   "execution_count": 46,
   "metadata": {},
   "outputs": [],
   "source": [
    "del train['Months_Since_Deliquency']\n",
    "print(train.shape)"
   ]
  },
  {
   "cell_type": "markdown",
   "metadata": {},
   "source": [
    "## Check the count of Interest Rate (Target Variable)"
   ]
  },
  {
   "cell_type": "code",
   "execution_count": 81,
   "metadata": {},
   "outputs": [
    {
     "data": {
      "text/plain": [
       "2    42.955651\n",
       "3    36.469700\n",
       "1    20.574649\n",
       "Name: Interest_Rate, dtype: float64"
      ]
     },
     "execution_count": 81,
     "metadata": {},
     "output_type": "execute_result"
    }
   ],
   "source": [
    "train.Interest_Rate.value_counts()*100/len(train.Interest_Rate)"
   ]
  },
  {
   "cell_type": "markdown",
   "metadata": {},
   "source": [
    "High dimensional datasets have the problem of presence ofirrelevant or redundant features which often lowers the per-formance of machine learning algorithms. Hence, the use ofsuitable feature selection methods becomes essential for clas-sification tasks that deal with high dimensional data\n",
    "\n",
    "Feature selection or attribute evaluator or filter method con-sists of identifying the relevant features and ignoring theirrelevant ones from a dataset\n",
    "\n",
    "1. Correlation-based feature selection (CFS)\n",
    "2. Symmetrical uncertainty (SU)"
   ]
  },
  {
   "cell_type": "code",
   "execution_count": 7,
   "metadata": {},
   "outputs": [
    {
     "data": {
      "text/plain": [
       "(164309, 14)"
      ]
     },
     "execution_count": 7,
     "metadata": {},
     "output_type": "execute_result"
    }
   ],
   "source": [
    "train.shape"
   ]
  },
  {
   "cell_type": "code",
   "execution_count": 6,
   "metadata": {},
   "outputs": [
    {
     "data": {
      "text/plain": [
       "Index(['Loan_ID', 'Loan_Amount_Requested', 'Length_Employed', 'Home_Owner',\n",
       "       'Annual_Income', 'Income_Verified', 'Purpose_Of_Loan', 'Debt_To_Income',\n",
       "       'Inquiries_Last_6Mo', 'Months_Since_Deliquency', 'Number_Open_Accounts',\n",
       "       'Total_Accounts', 'Gender', 'Interest_Rate'],\n",
       "      dtype='object')"
      ]
     },
     "execution_count": 6,
     "metadata": {},
     "output_type": "execute_result"
    }
   ],
   "source": [
    "train.columns"
   ]
  },
  {
   "cell_type": "code",
   "execution_count": 44,
   "metadata": {},
   "outputs": [
    {
     "name": "stdout",
     "output_type": "stream",
     "text": [
      "{dtype('O'), dtype('int64'), dtype('float64')}\n"
     ]
    }
   ],
   "source": [
    "print(set(train.dtypes.tolist()))"
   ]
  },
  {
   "cell_type": "markdown",
   "metadata": {},
   "source": [
    "## Convert non null columns to float and int"
   ]
  },
  {
   "cell_type": "code",
   "execution_count": 49,
   "metadata": {},
   "outputs": [],
   "source": [
    "train['Debt_To_Income'] = train['Debt_To_Income'].astype(float)\n",
    "train['Inquiries_Last_6Mo'] = train['Inquiries_Last_6Mo'].astype(int)\n",
    "train['Number_Open_Accounts'] = train['Number_Open_Accounts'].astype(int)\n",
    "train['Total_Accounts'] = train['Total_Accounts'].astype(int)"
   ]
  },
  {
   "cell_type": "markdown",
   "metadata": {},
   "source": [
    "### Check change in datatype"
   ]
  },
  {
   "cell_type": "code",
   "execution_count": 50,
   "metadata": {},
   "outputs": [
    {
     "name": "stdout",
     "output_type": "stream",
     "text": [
      "<class 'pandas.core.frame.DataFrame'>\n",
      "RangeIndex: 164309 entries, 0 to 164308\n",
      "Data columns (total 13 columns):\n",
      " #   Column                 Non-Null Count   Dtype  \n",
      "---  ------                 --------------   -----  \n",
      " 0   Loan_ID                164309 non-null  int64  \n",
      " 1   Loan_Amount_Requested  164309 non-null  float64\n",
      " 2   Length_Employed        156938 non-null  object \n",
      " 3   Home_Owner             138960 non-null  object \n",
      " 4   Annual_Income          139207 non-null  float64\n",
      " 5   Income_Verified        164309 non-null  object \n",
      " 6   Purpose_Of_Loan        164309 non-null  object \n",
      " 7   Debt_To_Income         164309 non-null  float64\n",
      " 8   Inquiries_Last_6Mo     164309 non-null  int32  \n",
      " 9   Number_Open_Accounts   164309 non-null  int32  \n",
      " 10  Total_Accounts         164309 non-null  int32  \n",
      " 11  Gender                 164309 non-null  object \n",
      " 12  Interest_Rate          164309 non-null  int64  \n",
      "dtypes: float64(3), int32(3), int64(2), object(5)\n",
      "memory usage: 14.4+ MB\n"
     ]
    }
   ],
   "source": [
    "train.info()"
   ]
  },
  {
   "cell_type": "markdown",
   "metadata": {},
   "source": [
    "## Select specific data type columns"
   ]
  },
  {
   "cell_type": "code",
   "execution_count": 64,
   "metadata": {},
   "outputs": [
    {
     "data": {
      "text/plain": [
       "array([[<matplotlib.axes._subplots.AxesSubplot object at 0x000002AC66F15320>,\n",
       "        <matplotlib.axes._subplots.AxesSubplot object at 0x000002AC680B0DA0>],\n",
       "       [<matplotlib.axes._subplots.AxesSubplot object at 0x000002AC66837390>,\n",
       "        <matplotlib.axes._subplots.AxesSubplot object at 0x000002AC66867908>],\n",
       "       [<matplotlib.axes._subplots.AxesSubplot object at 0x000002AC6689CEB8>,\n",
       "        <matplotlib.axes._subplots.AxesSubplot object at 0x000002AC668D94A8>]],\n",
       "      dtype=object)"
      ]
     },
     "execution_count": 64,
     "metadata": {},
     "output_type": "execute_result"
    },
    {
     "data": {
      "image/png": "[encoded data removed]",
      "text/plain": [
       "<Figure size 1152x1440 with 6 Axes>"
      ]
     },
     "metadata": {
      "needs_background": "light"
     },
     "output_type": "display_data"
    }
   ],
   "source": [
    "df_numerical = train.select_dtypes(include = ['int64', 'float64'])\n",
    "df_numerical.hist(figsize = (16, 20), bins = 10)"
   ]
  },
  {
   "cell_type": "markdown",
   "metadata": {},
   "source": [
    "## 1. Column - Loan_Amount_Requested\n",
    "\n",
    "The listed amount of the loan applied for by the borrower."
   ]
  },
  {
   "cell_type": "markdown",
   "metadata": {},
   "source": [
    "#### Replace comma in the entire column"
   ]
  },
  {
   "cell_type": "code",
   "execution_count": 30,
   "metadata": {},
   "outputs": [],
   "source": [
    "train['Loan_Amount_Requested'] = train['Loan_Amount_Requested'].replace(\",\", \"\", regex = True)"
   ]
  },
  {
   "cell_type": "markdown",
   "metadata": {},
   "source": [
    "#### Check the update"
   ]
  },
  {
   "cell_type": "code",
   "execution_count": 31,
   "metadata": {},
   "outputs": [
    {
     "data": {
      "text/plain": [
       "0          7000\n",
       "1         30000\n",
       "2         24725\n",
       "3         16000\n",
       "4         17000\n",
       "          ...  \n",
       "164304    20725\n",
       "164305     6000\n",
       "164306    20250\n",
       "164307    10000\n",
       "164308     9250\n",
       "Name: Loan_Amount_Requested, Length: 164309, dtype: object"
      ]
     },
     "execution_count": 31,
     "metadata": {},
     "output_type": "execute_result"
    }
   ],
   "source": [
    "train['Loan_Amount_Requested']"
   ]
  },
  {
   "cell_type": "markdown",
   "metadata": {},
   "source": [
    "#### Convert column into a float datatype"
   ]
  },
  {
   "cell_type": "code",
   "execution_count": 32,
   "metadata": {},
   "outputs": [],
   "source": [
    "train['Loan_Amount_Requested'] = train['Loan_Amount_Requested'].astype(float)"
   ]
  },
  {
   "cell_type": "code",
   "execution_count": 43,
   "metadata": {},
   "outputs": [
    {
     "data": {
      "text/plain": [
       "pandas.core.series.Series"
      ]
     },
     "execution_count": 43,
     "metadata": {},
     "output_type": "execute_result"
    }
   ],
   "source": [
    "type(train['Loan_Amount_Requested'])"
   ]
  },
  {
   "cell_type": "code",
   "execution_count": 58,
   "metadata": {},
   "outputs": [
    {
     "data": {
      "text/plain": [
       "count    164309.00000\n",
       "mean      14349.33692\n",
       "std        8281.86870\n",
       "min         500.00000\n",
       "25%        8000.00000\n",
       "50%       12075.00000\n",
       "75%       20000.00000\n",
       "max       35000.00000\n",
       "Name: Loan_Amount_Requested, dtype: float64"
      ]
     },
     "execution_count": 58,
     "metadata": {},
     "output_type": "execute_result"
    }
   ],
   "source": [
    "train.Loan_Amount_Requested.describe()"
   ]
  },
  {
   "cell_type": "code",
   "execution_count": 61,
   "metadata": {},
   "outputs": [
    {
     "data": {
      "text/plain": [
       "<matplotlib.axes._subplots.AxesSubplot at 0x2ac662e4860>"
      ]
     },
     "execution_count": 61,
     "metadata": {},
     "output_type": "execute_result"
    },
    {
     "data": {
      "image/png": "[encoded data removed]",
      "text/plain": [
       "<Figure size 648x576 with 1 Axes>"
      ]
     },
     "metadata": {
      "needs_background": "light"
     },
     "output_type": "display_data"
    }
   ],
   "source": [
    "plt.figure(figsize = (9,8))\n",
    "sns.distplot(train['Loan_Amount_Requested'] , color = 'g', bins = 100, hist_kws = {'alpha':0.4})"
   ]
  },
  {
   "cell_type": "code",
   "execution_count": 65,
   "metadata": {},
   "outputs": [
    {
     "data": {
      "text/plain": [
       "<matplotlib.axes._subplots.AxesSubplot at 0x2ac66a15208>"
      ]
     },
     "execution_count": 65,
     "metadata": {},
     "output_type": "execute_result"
    },
    {
     "data": {
      "image/png": "[encoded data removed]",
      "text/plain": [
       "<Figure size 432x288 with 1 Axes>"
      ]
     },
     "metadata": {
      "needs_background": "light"
     },
     "output_type": "display_data"
    }
   ],
   "source": [
    "train.Loan_Amount_Requested.hist(bins = 50)"
   ]
  },
  {
   "cell_type": "markdown",
   "metadata": {},
   "source": [
    "### Observation - Seems the distribtuion is right skewed, multimodal and some outliers as well. We need to try and get rid of all this to get a normal distribution (or simply apply a log transform to shift the data)"
   ]
  },
  {
   "cell_type": "markdown",
   "metadata": {},
   "source": [
    "## 2. Column - Length_Employed\n",
    "\n",
    "Employment length in years"
   ]
  },
  {
   "cell_type": "code",
   "execution_count": 79,
   "metadata": {},
   "outputs": [
    {
     "data": {
      "text/plain": [
       "count        164309\n",
       "unique           11\n",
       "top       10+ years\n",
       "freq          55407\n",
       "Name: Length_Employed, dtype: object"
      ]
     },
     "execution_count": 79,
     "metadata": {},
     "output_type": "execute_result"
    }
   ],
   "source": [
    "train.Length_Employed.describe()"
   ]
  },
  {
   "cell_type": "code",
   "execution_count": 8,
   "metadata": {},
   "outputs": [
    {
     "data": {
      "text/plain": [
       "10+ years    52915\n",
       "2 years      14620\n",
       "3 years      12974\n",
       "< 1 year     12805\n",
       "5 years      10814\n",
       "1 year       10422\n",
       "4 years       9784\n",
       "7 years       9308\n",
       "6 years       9094\n",
       "8 years       7917\n",
       "9 years       6285\n",
       "Name: Length_Employed, dtype: int64"
      ]
     },
     "execution_count": 8,
     "metadata": {},
     "output_type": "execute_result"
    }
   ],
   "source": [
    "train.Length_Employed.value_counts()"
   ]
  },
  {
   "cell_type": "markdown",
   "metadata": {},
   "source": [
    "### 7371 missing values need to be filled"
   ]
  },
  {
   "cell_type": "code",
   "execution_count": 68,
   "metadata": {},
   "outputs": [
    {
     "data": {
      "text/plain": [
       "7371"
      ]
     },
     "execution_count": 68,
     "metadata": {},
     "output_type": "execute_result"
    }
   ],
   "source": [
    "train.Length_Employed.isnull().sum()"
   ]
  },
  {
   "cell_type": "markdown",
   "metadata": {},
   "source": [
    "## Missing value fix by Forward fill"
   ]
  },
  {
   "cell_type": "code",
   "execution_count": 77,
   "metadata": {},
   "outputs": [],
   "source": [
    "train.Length_Employed.ffill(axis = 0, inplace = True)\n",
    "train.Length_Employed.isnull().sum()"
   ]
  },
  {
   "cell_type": "code",
   "execution_count": 80,
   "metadata": {},
   "outputs": [
    {
     "data": {
      "text/html": [
       "<div>\n",
       "<style scoped>\n",
       "    .dataframe tbody tr th:only-of-type {\n",
       "        vertical-align: middle;\n",
       "    }\n",
       "\n",
       "    .dataframe tbody tr th {\n",
       "        vertical-align: top;\n",
       "    }\n",
       "\n",
       "    .dataframe thead th {\n",
       "        text-align: right;\n",
       "    }\n",
       "</style>\n",
       "<table border=\"1\" class=\"dataframe\">\n",
       "  <thead>\n",
       "    <tr style=\"text-align: right;\">\n",
       "      <th>Interest_Rate</th>\n",
       "      <th>1</th>\n",
       "      <th>2</th>\n",
       "      <th>3</th>\n",
       "    </tr>\n",
       "    <tr>\n",
       "      <th>Length_Employed</th>\n",
       "      <th></th>\n",
       "      <th></th>\n",
       "      <th></th>\n",
       "    </tr>\n",
       "  </thead>\n",
       "  <tbody>\n",
       "    <tr>\n",
       "      <th>1 year</th>\n",
       "      <td>0.215978</td>\n",
       "      <td>0.441139</td>\n",
       "      <td>0.342883</td>\n",
       "    </tr>\n",
       "    <tr>\n",
       "      <th>10+ years</th>\n",
       "      <td>0.199650</td>\n",
       "      <td>0.422943</td>\n",
       "      <td>0.377407</td>\n",
       "    </tr>\n",
       "    <tr>\n",
       "      <th>2 years</th>\n",
       "      <td>0.210578</td>\n",
       "      <td>0.438633</td>\n",
       "      <td>0.350789</td>\n",
       "    </tr>\n",
       "    <tr>\n",
       "      <th>3 years</th>\n",
       "      <td>0.217673</td>\n",
       "      <td>0.432331</td>\n",
       "      <td>0.349996</td>\n",
       "    </tr>\n",
       "    <tr>\n",
       "      <th>4 years</th>\n",
       "      <td>0.208776</td>\n",
       "      <td>0.438323</td>\n",
       "      <td>0.352901</td>\n",
       "    </tr>\n",
       "    <tr>\n",
       "      <th>5 years</th>\n",
       "      <td>0.207321</td>\n",
       "      <td>0.419747</td>\n",
       "      <td>0.372932</td>\n",
       "    </tr>\n",
       "    <tr>\n",
       "      <th>6 years</th>\n",
       "      <td>0.201614</td>\n",
       "      <td>0.423242</td>\n",
       "      <td>0.375144</td>\n",
       "    </tr>\n",
       "    <tr>\n",
       "      <th>7 years</th>\n",
       "      <td>0.190721</td>\n",
       "      <td>0.429378</td>\n",
       "      <td>0.379901</td>\n",
       "    </tr>\n",
       "    <tr>\n",
       "      <th>8 years</th>\n",
       "      <td>0.202446</td>\n",
       "      <td>0.438068</td>\n",
       "      <td>0.359487</td>\n",
       "    </tr>\n",
       "    <tr>\n",
       "      <th>9 years</th>\n",
       "      <td>0.195245</td>\n",
       "      <td>0.425697</td>\n",
       "      <td>0.379058</td>\n",
       "    </tr>\n",
       "    <tr>\n",
       "      <th>&lt; 1 year</th>\n",
       "      <td>0.222405</td>\n",
       "      <td>0.437202</td>\n",
       "      <td>0.340394</td>\n",
       "    </tr>\n",
       "  </tbody>\n",
       "</table>\n",
       "</div>"
      ],
      "text/plain": [
       "Interest_Rate           1         2         3\n",
       "Length_Employed                              \n",
       "1 year           0.215978  0.441139  0.342883\n",
       "10+ years        0.199650  0.422943  0.377407\n",
       "2 years          0.210578  0.438633  0.350789\n",
       "3 years          0.217673  0.432331  0.349996\n",
       "4 years          0.208776  0.438323  0.352901\n",
       "5 years          0.207321  0.419747  0.372932\n",
       "6 years          0.201614  0.423242  0.375144\n",
       "7 years          0.190721  0.429378  0.379901\n",
       "8 years          0.202446  0.438068  0.359487\n",
       "9 years          0.195245  0.425697  0.379058\n",
       "< 1 year         0.222405  0.437202  0.340394"
      ]
     },
     "execution_count": 80,
     "metadata": {},
     "output_type": "execute_result"
    }
   ],
   "source": [
    "pd.crosstab(index = train.Length_Employed, columns = train.Interest_Rate, normalize = 'index')"
   ]
  },
  {
   "cell_type": "markdown",
   "metadata": {},
   "source": [
    "### Replace \"year\", \"years\", \"+\", \"<\" from the column  and make it int categorical"
   ]
  },
  {
   "cell_type": "code",
   "execution_count": 113,
   "metadata": {},
   "outputs": [],
   "source": [
    "train.Length_Employed.replace(\"years\", \"\", regex = True, inplace = True)\n",
    "train.Length_Employed.replace(\"year\", \"\", regex = True, inplace = True)\n",
    "train.Length_Employed.replace('\\+', \"\", regex = True, inplace = True)\n",
    "train.Length_Employed.replace(\"<\", \"\", regex = True, inplace = True)\n",
    "train.Length_Employed.replace(\" \", \"\", regex = True, inplace = True)"
   ]
  },
  {
   "cell_type": "code",
   "execution_count": 114,
   "metadata": {},
   "outputs": [
    {
     "data": {
      "text/plain": [
       "array(['1', '4', '7', '8', '2', '10', '6', '9', '3', '5'], dtype=object)"
      ]
     },
     "execution_count": 114,
     "metadata": {},
     "output_type": "execute_result"
    }
   ],
   "source": [
    "train.Length_Employed.unique()"
   ]
  },
  {
   "cell_type": "markdown",
   "metadata": {},
   "source": [
    "### Observation - The cross tab distribution of Length employed and Interest Rate seems to be uniform across the categories"
   ]
  },
  {
   "cell_type": "markdown",
   "metadata": {},
   "source": [
    "## 3. Column - Home Owner"
   ]
  },
  {
   "cell_type": "code",
   "execution_count": 85,
   "metadata": {},
   "outputs": [
    {
     "data": {
      "text/plain": [
       "count       164309\n",
       "unique           5\n",
       "top       Mortgage\n",
       "freq         83304\n",
       "Name: Home_Owner, dtype: object"
      ]
     },
     "execution_count": 85,
     "metadata": {},
     "output_type": "execute_result"
    }
   ],
   "source": [
    "train.Home_Owner.describe()"
   ]
  },
  {
   "cell_type": "code",
   "execution_count": 9,
   "metadata": {},
   "outputs": [
    {
     "data": {
      "text/plain": [
       "Mortgage    70345\n",
       "Rent        56031\n",
       "Own         12525\n",
       "Other          49\n",
       "None           10\n",
       "Name: Home_Owner, dtype: int64"
      ]
     },
     "execution_count": 9,
     "metadata": {},
     "output_type": "execute_result"
    }
   ],
   "source": [
    "train.Home_Owner.value_counts()"
   ]
  },
  {
   "cell_type": "markdown",
   "metadata": {},
   "source": [
    "### Check missing values"
   ]
  },
  {
   "cell_type": "code",
   "execution_count": 83,
   "metadata": {},
   "outputs": [
    {
     "data": {
      "text/plain": [
       "25349"
      ]
     },
     "execution_count": 83,
     "metadata": {},
     "output_type": "execute_result"
    }
   ],
   "source": [
    "train.Home_Owner.isnull().sum()"
   ]
  },
  {
   "cell_type": "markdown",
   "metadata": {},
   "source": [
    "### Missing values fix by forward fill"
   ]
  },
  {
   "cell_type": "code",
   "execution_count": 84,
   "metadata": {},
   "outputs": [
    {
     "data": {
      "text/plain": [
       "0"
      ]
     },
     "execution_count": 84,
     "metadata": {},
     "output_type": "execute_result"
    }
   ],
   "source": [
    "train.Home_Owner.ffill(axis = 0, inplace = True)\n",
    "train.Home_Owner.isnull().sum()"
   ]
  },
  {
   "cell_type": "code",
   "execution_count": 89,
   "metadata": {},
   "outputs": [
    {
     "data": {
      "text/html": [
       "<div>\n",
       "<style scoped>\n",
       "    .dataframe tbody tr th:only-of-type {\n",
       "        vertical-align: middle;\n",
       "    }\n",
       "\n",
       "    .dataframe tbody tr th {\n",
       "        vertical-align: top;\n",
       "    }\n",
       "\n",
       "    .dataframe thead th {\n",
       "        text-align: right;\n",
       "    }\n",
       "</style>\n",
       "<table border=\"1\" class=\"dataframe\">\n",
       "  <thead>\n",
       "    <tr style=\"text-align: right;\">\n",
       "      <th>Interest_Rate</th>\n",
       "      <th>1</th>\n",
       "      <th>2</th>\n",
       "      <th>3</th>\n",
       "    </tr>\n",
       "    <tr>\n",
       "      <th>Home_Owner</th>\n",
       "      <th></th>\n",
       "      <th></th>\n",
       "      <th></th>\n",
       "    </tr>\n",
       "  </thead>\n",
       "  <tbody>\n",
       "    <tr>\n",
       "      <th>Mortgage</th>\n",
       "      <td>19033</td>\n",
       "      <td>35187</td>\n",
       "      <td>29084</td>\n",
       "    </tr>\n",
       "    <tr>\n",
       "      <th>None</th>\n",
       "      <td>6</td>\n",
       "      <td>1</td>\n",
       "      <td>4</td>\n",
       "    </tr>\n",
       "    <tr>\n",
       "      <th>Other</th>\n",
       "      <td>12</td>\n",
       "      <td>27</td>\n",
       "      <td>16</td>\n",
       "    </tr>\n",
       "    <tr>\n",
       "      <th>Own</th>\n",
       "      <td>2981</td>\n",
       "      <td>6358</td>\n",
       "      <td>5436</td>\n",
       "    </tr>\n",
       "    <tr>\n",
       "      <th>Rent</th>\n",
       "      <td>11774</td>\n",
       "      <td>29007</td>\n",
       "      <td>25383</td>\n",
       "    </tr>\n",
       "  </tbody>\n",
       "</table>\n",
       "</div>"
      ],
      "text/plain": [
       "Interest_Rate      1      2      3\n",
       "Home_Owner                        \n",
       "Mortgage       19033  35187  29084\n",
       "None               6      1      4\n",
       "Other             12     27     16\n",
       "Own             2981   6358   5436\n",
       "Rent           11774  29007  25383"
      ]
     },
     "execution_count": 89,
     "metadata": {},
     "output_type": "execute_result"
    }
   ],
   "source": [
    "pd.crosstab(index = train.Home_Owner, columns = train.Interest_Rate)"
   ]
  },
  {
   "cell_type": "markdown",
   "metadata": {},
   "source": [
    "### Observation - 'None' and 'Other' seem to be having a significant distinction from the uniform trend. This can be a distinguishing factor. However, their absolute numbers are very low"
   ]
  },
  {
   "cell_type": "markdown",
   "metadata": {},
   "source": [
    "## Replace values to make it int categorical"
   ]
  },
  {
   "cell_type": "code",
   "execution_count": 137,
   "metadata": {},
   "outputs": [],
   "source": [
    "train.Home_Owner.replace(\"Mortgage\", \"0\", regex = True, inplace = True)\n",
    "train.Home_Owner.replace(\"None\", \"1\", regex = True, inplace = True)\n",
    "train.Home_Owner.replace(\"Other\", \"2\", regex = True, inplace = True)\n",
    "train.Home_Owner.replace(\"Own\", \"3\", regex = True, inplace = True)\n",
    "train.Home_Owner.replace(\"Rent\", \"4\", regex = True, inplace = True)"
   ]
  },
  {
   "cell_type": "code",
   "execution_count": 138,
   "metadata": {},
   "outputs": [
    {
     "data": {
      "text/plain": [
       "array(['4', '0', '3', '2', '1'], dtype=object)"
      ]
     },
     "execution_count": 138,
     "metadata": {},
     "output_type": "execute_result"
    }
   ],
   "source": [
    "train.Home_Owner.unique()"
   ]
  },
  {
   "cell_type": "markdown",
   "metadata": {},
   "source": [
    "## 4. Column - Annual Income\n",
    "\n",
    "The annual income provided by the borrower during registration."
   ]
  },
  {
   "cell_type": "code",
   "execution_count": 91,
   "metadata": {},
   "outputs": [
    {
     "data": {
      "text/plain": [
       "25102"
      ]
     },
     "execution_count": 91,
     "metadata": {},
     "output_type": "execute_result"
    }
   ],
   "source": [
    "train.Annual_Income.isnull().sum()"
   ]
  },
  {
   "cell_type": "code",
   "execution_count": 92,
   "metadata": {},
   "outputs": [
    {
     "data": {
      "text/plain": [
       "0"
      ]
     },
     "execution_count": 92,
     "metadata": {},
     "output_type": "execute_result"
    }
   ],
   "source": [
    "train.Annual_Income.ffill(axis = 0, inplace = True)\n",
    "train.Annual_Income.isnull().sum()"
   ]
  },
  {
   "cell_type": "markdown",
   "metadata": {},
   "source": [
    "## 5. Column - Income_Verified\n",
    "\n",
    "Indicates if income was verified, not verified, or if the income source was verified"
   ]
  },
  {
   "cell_type": "code",
   "execution_count": 10,
   "metadata": {},
   "outputs": [
    {
     "data": {
      "text/plain": [
       "VERIFIED - income           59421\n",
       "VERIFIED - income source    53015\n",
       "not verified                51873\n",
       "Name: Income_Verified, dtype: int64"
      ]
     },
     "execution_count": 10,
     "metadata": {},
     "output_type": "execute_result"
    }
   ],
   "source": [
    "train.Income_Verified.value_counts()"
   ]
  },
  {
   "cell_type": "code",
   "execution_count": 117,
   "metadata": {},
   "outputs": [
    {
     "data": {
      "text/html": [
       "<div>\n",
       "<style scoped>\n",
       "    .dataframe tbody tr th:only-of-type {\n",
       "        vertical-align: middle;\n",
       "    }\n",
       "\n",
       "    .dataframe tbody tr th {\n",
       "        vertical-align: top;\n",
       "    }\n",
       "\n",
       "    .dataframe thead th {\n",
       "        text-align: right;\n",
       "    }\n",
       "</style>\n",
       "<table border=\"1\" class=\"dataframe\">\n",
       "  <thead>\n",
       "    <tr style=\"text-align: right;\">\n",
       "      <th>Interest_Rate</th>\n",
       "      <th>1</th>\n",
       "      <th>2</th>\n",
       "      <th>3</th>\n",
       "    </tr>\n",
       "    <tr>\n",
       "      <th>Income_Verified</th>\n",
       "      <th></th>\n",
       "      <th></th>\n",
       "      <th></th>\n",
       "    </tr>\n",
       "  </thead>\n",
       "  <tbody>\n",
       "    <tr>\n",
       "      <th>VERIFIED - income</th>\n",
       "      <td>0.144191</td>\n",
       "      <td>0.381515</td>\n",
       "      <td>0.474294</td>\n",
       "    </tr>\n",
       "    <tr>\n",
       "      <th>VERIFIED - income source</th>\n",
       "      <td>0.195643</td>\n",
       "      <td>0.432198</td>\n",
       "      <td>0.372159</td>\n",
       "    </tr>\n",
       "    <tr>\n",
       "      <th>not verified</th>\n",
       "      <td>0.286585</td>\n",
       "      <td>0.481888</td>\n",
       "      <td>0.231527</td>\n",
       "    </tr>\n",
       "  </tbody>\n",
       "</table>\n",
       "</div>"
      ],
      "text/plain": [
       "Interest_Rate                    1         2         3\n",
       "Income_Verified                                       \n",
       "VERIFIED - income         0.144191  0.381515  0.474294\n",
       "VERIFIED - income source  0.195643  0.432198  0.372159\n",
       "not verified              0.286585  0.481888  0.231527"
      ]
     },
     "execution_count": 117,
     "metadata": {},
     "output_type": "execute_result"
    }
   ],
   "source": [
    "pd.crosstab(index = train.Income_Verified, columns = train.Interest_Rate, normalize = 'index')"
   ]
  },
  {
   "cell_type": "markdown",
   "metadata": {},
   "source": [
    "### Observation - If income is verfied then more likely to put in 3rd category, if source verified then more likely in 2nd category and if not verified then strong pull in 2nd and 1st. \n",
    "\n",
    "### This variable can be a strong indicator of class"
   ]
  },
  {
   "cell_type": "code",
   "execution_count": 142,
   "metadata": {},
   "outputs": [],
   "source": [
    "## Replace values to make int categorical\n",
    "\n",
    "train.Income_Verified.replace(\"VERIFIED - income source\", \"1\", regex = True, inplace = True)\n",
    "train.Income_Verified.replace(\"VERIFIED - income\", \"0\", regex = True, inplace = True)\n",
    "train.Income_Verified.replace(\"not verified\", \"2\", regex = True, inplace = True)\n",
    "\n",
    "#train.Income_Verified.replace(\"0 source\", \"1\", regex = True, inplace = True)\n"
   ]
  },
  {
   "cell_type": "code",
   "execution_count": 143,
   "metadata": {},
   "outputs": [
    {
     "data": {
      "text/plain": [
       "array(['2', '0', '1'], dtype=object)"
      ]
     },
     "execution_count": 143,
     "metadata": {},
     "output_type": "execute_result"
    }
   ],
   "source": [
    "train.Income_Verified.unique()"
   ]
  },
  {
   "cell_type": "markdown",
   "metadata": {},
   "source": [
    "## 6. Column - Purpose_Of_Loan"
   ]
  },
  {
   "cell_type": "code",
   "execution_count": 120,
   "metadata": {},
   "outputs": [
    {
     "data": {
      "text/html": [
       "<div>\n",
       "<style scoped>\n",
       "    .dataframe tbody tr th:only-of-type {\n",
       "        vertical-align: middle;\n",
       "    }\n",
       "\n",
       "    .dataframe tbody tr th {\n",
       "        vertical-align: top;\n",
       "    }\n",
       "\n",
       "    .dataframe thead th {\n",
       "        text-align: right;\n",
       "    }\n",
       "</style>\n",
       "<table border=\"1\" class=\"dataframe\">\n",
       "  <thead>\n",
       "    <tr style=\"text-align: right;\">\n",
       "      <th>Interest_Rate</th>\n",
       "      <th>1</th>\n",
       "      <th>2</th>\n",
       "      <th>3</th>\n",
       "    </tr>\n",
       "    <tr>\n",
       "      <th>Purpose_Of_Loan</th>\n",
       "      <th></th>\n",
       "      <th></th>\n",
       "      <th></th>\n",
       "    </tr>\n",
       "  </thead>\n",
       "  <tbody>\n",
       "    <tr>\n",
       "      <th>car</th>\n",
       "      <td>0.350663</td>\n",
       "      <td>0.417507</td>\n",
       "      <td>0.231830</td>\n",
       "    </tr>\n",
       "    <tr>\n",
       "      <th>credit_card</th>\n",
       "      <td>0.287918</td>\n",
       "      <td>0.460528</td>\n",
       "      <td>0.251554</td>\n",
       "    </tr>\n",
       "    <tr>\n",
       "      <th>debt_consolidation</th>\n",
       "      <td>0.176404</td>\n",
       "      <td>0.435691</td>\n",
       "      <td>0.387905</td>\n",
       "    </tr>\n",
       "    <tr>\n",
       "      <th>educational</th>\n",
       "      <td>0.305785</td>\n",
       "      <td>0.644628</td>\n",
       "      <td>0.049587</td>\n",
       "    </tr>\n",
       "    <tr>\n",
       "      <th>home_improvement</th>\n",
       "      <td>0.235732</td>\n",
       "      <td>0.417305</td>\n",
       "      <td>0.346963</td>\n",
       "    </tr>\n",
       "    <tr>\n",
       "      <th>house</th>\n",
       "      <td>0.177232</td>\n",
       "      <td>0.311772</td>\n",
       "      <td>0.510996</td>\n",
       "    </tr>\n",
       "    <tr>\n",
       "      <th>major_purchase</th>\n",
       "      <td>0.307132</td>\n",
       "      <td>0.400873</td>\n",
       "      <td>0.291994</td>\n",
       "    </tr>\n",
       "    <tr>\n",
       "      <th>medical</th>\n",
       "      <td>0.144062</td>\n",
       "      <td>0.364698</td>\n",
       "      <td>0.491239</td>\n",
       "    </tr>\n",
       "    <tr>\n",
       "      <th>moving</th>\n",
       "      <td>0.124230</td>\n",
       "      <td>0.298768</td>\n",
       "      <td>0.577002</td>\n",
       "    </tr>\n",
       "    <tr>\n",
       "      <th>other</th>\n",
       "      <td>0.124850</td>\n",
       "      <td>0.340522</td>\n",
       "      <td>0.534627</td>\n",
       "    </tr>\n",
       "    <tr>\n",
       "      <th>renewable_energy</th>\n",
       "      <td>0.186992</td>\n",
       "      <td>0.292683</td>\n",
       "      <td>0.520325</td>\n",
       "    </tr>\n",
       "    <tr>\n",
       "      <th>small_business</th>\n",
       "      <td>0.133779</td>\n",
       "      <td>0.300585</td>\n",
       "      <td>0.565635</td>\n",
       "    </tr>\n",
       "    <tr>\n",
       "      <th>vacation</th>\n",
       "      <td>0.151732</td>\n",
       "      <td>0.344086</td>\n",
       "      <td>0.504182</td>\n",
       "    </tr>\n",
       "    <tr>\n",
       "      <th>wedding</th>\n",
       "      <td>0.223430</td>\n",
       "      <td>0.351449</td>\n",
       "      <td>0.425121</td>\n",
       "    </tr>\n",
       "  </tbody>\n",
       "</table>\n",
       "</div>"
      ],
      "text/plain": [
       "Interest_Rate              1         2         3\n",
       "Purpose_Of_Loan                                 \n",
       "car                 0.350663  0.417507  0.231830\n",
       "credit_card         0.287918  0.460528  0.251554\n",
       "debt_consolidation  0.176404  0.435691  0.387905\n",
       "educational         0.305785  0.644628  0.049587\n",
       "home_improvement    0.235732  0.417305  0.346963\n",
       "house               0.177232  0.311772  0.510996\n",
       "major_purchase      0.307132  0.400873  0.291994\n",
       "medical             0.144062  0.364698  0.491239\n",
       "moving              0.124230  0.298768  0.577002\n",
       "other               0.124850  0.340522  0.534627\n",
       "renewable_energy    0.186992  0.292683  0.520325\n",
       "small_business      0.133779  0.300585  0.565635\n",
       "vacation            0.151732  0.344086  0.504182\n",
       "wedding             0.223430  0.351449  0.425121"
      ]
     },
     "execution_count": 120,
     "metadata": {},
     "output_type": "execute_result"
    }
   ],
   "source": [
    "pd.crosstab(index = train.Purpose_Of_Loan, columns = train.Interest_Rate, normalize = 'index')"
   ]
  },
  {
   "cell_type": "code",
   "execution_count": 12,
   "metadata": {},
   "outputs": [
    {
     "data": {
      "text/plain": [
       "debt_consolidation    97101\n",
       "credit_card           36684\n",
       "home_improvement       9269\n",
       "other                  8346\n",
       "major_purchase         3435\n",
       "small_business         2392\n",
       "car                    1885\n",
       "medical                1541\n",
       "moving                  974\n",
       "vacation                837\n",
       "wedding                 828\n",
       "house                   773\n",
       "renewable_energy        123\n",
       "educational             121\n",
       "Name: Purpose_Of_Loan, dtype: int64"
      ]
     },
     "execution_count": 12,
     "metadata": {},
     "output_type": "execute_result"
    }
   ],
   "source": [
    "train.Purpose_Of_Loan.value_counts()"
   ]
  },
  {
   "cell_type": "code",
   "execution_count": 144,
   "metadata": {},
   "outputs": [],
   "source": [
    "train.Purpose_Of_Loan.replace(\"debt_consolidation\", \"0\", inplace = True, regex = True)\n",
    "train.Purpose_Of_Loan.replace(\"credit_card\", \"1\", inplace = True, regex = True)\n",
    "train.Purpose_Of_Loan.replace(\"home_improvement\", \"2\", inplace = True, regex = True)\n",
    "train.Purpose_Of_Loan.replace(\"other\", \"3\", inplace = True, regex = True)\n",
    "train.Purpose_Of_Loan.replace(\"major_purchase\", \"4\", inplace = True, regex = True)\n",
    "train.Purpose_Of_Loan.replace(\"small_business\", \"5\", inplace = True, regex = True)\n",
    "train.Purpose_Of_Loan.replace(\"car\", \"6\", inplace = True, regex = True)\n",
    "train.Purpose_Of_Loan.replace(\"medical\", \"7\", inplace = True, regex = True)\n",
    "train.Purpose_Of_Loan.replace(\"moving\", \"8\", inplace = True, regex = True)\n",
    "train.Purpose_Of_Loan.replace(\"vacation\", \"9\", inplace = True, regex = True)\n",
    "train.Purpose_Of_Loan.replace(\"wedding\", \"10\", inplace = True, regex = True)\n",
    "train.Purpose_Of_Loan.replace(\"house\", \"11\", inplace = True, regex = True)\n",
    "train.Purpose_Of_Loan.replace(\"renewable_energy\", \"12\", inplace = True, regex = True)\n",
    "train.Purpose_Of_Loan.replace(\"educational\", \"13\", inplace = True, regex = True)"
   ]
  },
  {
   "cell_type": "code",
   "execution_count": 145,
   "metadata": {},
   "outputs": [
    {
     "data": {
      "text/plain": [
       "array(['6', '0', '1', '2', '4', '3', '7', '5', '8', '10', '9', '11', '13',\n",
       "       '12'], dtype=object)"
      ]
     },
     "execution_count": 145,
     "metadata": {},
     "output_type": "execute_result"
    }
   ],
   "source": [
    "train.Purpose_Of_Loan.unique()"
   ]
  },
  {
   "cell_type": "markdown",
   "metadata": {},
   "source": [
    "## 7. Column: Debt_To_Income\n",
    "\n",
    "A ratio calculated using the borrower’s total monthly debt payments on the total debt obligations, excluding mortgage and the requested loan, divided by the borrower’s self-reported monthly income."
   ]
  },
  {
   "cell_type": "code",
   "execution_count": 56,
   "metadata": {},
   "outputs": [
    {
     "data": {
      "text/plain": [
       "count    164309.000000\n",
       "mean         17.207189\n",
       "std           7.845083\n",
       "min           0.000000\n",
       "25%          11.370000\n",
       "50%          16.840000\n",
       "75%          22.780000\n",
       "max          39.990000\n",
       "Name: Debt_To_Income, dtype: float64"
      ]
     },
     "execution_count": 56,
     "metadata": {},
     "output_type": "execute_result"
    }
   ],
   "source": [
    "train.Debt_To_Income.describe()"
   ]
  },
  {
   "cell_type": "code",
   "execution_count": 57,
   "metadata": {},
   "outputs": [
    {
     "data": {
      "text/plain": [
       "<matplotlib.axes._subplots.AxesSubplot at 0x2ac648baac8>"
      ]
     },
     "execution_count": 57,
     "metadata": {},
     "output_type": "execute_result"
    },
    {
     "data": {
      "image/png": "[encoded data removed]",
      "text/plain": [
       "<Figure size 648x576 with 1 Axes>"
      ]
     },
     "metadata": {
      "needs_background": "light"
     },
     "output_type": "display_data"
    }
   ],
   "source": [
    "plt.figure(figsize = (9,8))\n",
    "sns.distplot(train['Debt_To_Income'] , color = 'g', bins = 30, hist_kws = {'alpha':0.4})"
   ]
  },
  {
   "cell_type": "markdown",
   "metadata": {},
   "source": [
    "### Observation - Seems a normal distribution"
   ]
  },
  {
   "cell_type": "markdown",
   "metadata": {},
   "source": [
    "## 8. Column - Inquiries_Last_6Mo\n",
    "\n",
    "The number of inquiries by creditors during the past 6 months"
   ]
  },
  {
   "cell_type": "code",
   "execution_count": 13,
   "metadata": {},
   "outputs": [
    {
     "data": {
      "text/plain": [
       "0    85665\n",
       "1    46071\n",
       "2    20297\n",
       "3     8863\n",
       "4     2278\n",
       "5      772\n",
       "6      335\n",
       "7       20\n",
       "8        8\n",
       "Name: Inquiries_Last_6Mo, dtype: int64"
      ]
     },
     "execution_count": 13,
     "metadata": {},
     "output_type": "execute_result"
    }
   ],
   "source": [
    "train.Inquiries_Last_6Mo.value_counts()"
   ]
  },
  {
   "cell_type": "code",
   "execution_count": 126,
   "metadata": {},
   "outputs": [
    {
     "data": {
      "text/html": [
       "<div>\n",
       "<style scoped>\n",
       "    .dataframe tbody tr th:only-of-type {\n",
       "        vertical-align: middle;\n",
       "    }\n",
       "\n",
       "    .dataframe tbody tr th {\n",
       "        vertical-align: top;\n",
       "    }\n",
       "\n",
       "    .dataframe thead th {\n",
       "        text-align: right;\n",
       "    }\n",
       "</style>\n",
       "<table border=\"1\" class=\"dataframe\">\n",
       "  <thead>\n",
       "    <tr style=\"text-align: right;\">\n",
       "      <th>Interest_Rate</th>\n",
       "      <th>1</th>\n",
       "      <th>2</th>\n",
       "      <th>3</th>\n",
       "    </tr>\n",
       "    <tr>\n",
       "      <th>Inquiries_Last_6Mo</th>\n",
       "      <th></th>\n",
       "      <th></th>\n",
       "      <th></th>\n",
       "    </tr>\n",
       "  </thead>\n",
       "  <tbody>\n",
       "    <tr>\n",
       "      <th>0</th>\n",
       "      <td>0.257375</td>\n",
       "      <td>0.456826</td>\n",
       "      <td>0.285799</td>\n",
       "    </tr>\n",
       "    <tr>\n",
       "      <th>1</th>\n",
       "      <td>0.170411</td>\n",
       "      <td>0.419722</td>\n",
       "      <td>0.409867</td>\n",
       "    </tr>\n",
       "    <tr>\n",
       "      <th>2</th>\n",
       "      <td>0.130463</td>\n",
       "      <td>0.384244</td>\n",
       "      <td>0.485293</td>\n",
       "    </tr>\n",
       "    <tr>\n",
       "      <th>3</th>\n",
       "      <td>0.109782</td>\n",
       "      <td>0.350897</td>\n",
       "      <td>0.539321</td>\n",
       "    </tr>\n",
       "    <tr>\n",
       "      <th>4</th>\n",
       "      <td>0.089113</td>\n",
       "      <td>0.337138</td>\n",
       "      <td>0.573749</td>\n",
       "    </tr>\n",
       "    <tr>\n",
       "      <th>5</th>\n",
       "      <td>0.079016</td>\n",
       "      <td>0.360104</td>\n",
       "      <td>0.560881</td>\n",
       "    </tr>\n",
       "    <tr>\n",
       "      <th>6</th>\n",
       "      <td>0.062687</td>\n",
       "      <td>0.414925</td>\n",
       "      <td>0.522388</td>\n",
       "    </tr>\n",
       "    <tr>\n",
       "      <th>7</th>\n",
       "      <td>0.000000</td>\n",
       "      <td>0.750000</td>\n",
       "      <td>0.250000</td>\n",
       "    </tr>\n",
       "    <tr>\n",
       "      <th>8</th>\n",
       "      <td>0.125000</td>\n",
       "      <td>0.000000</td>\n",
       "      <td>0.875000</td>\n",
       "    </tr>\n",
       "  </tbody>\n",
       "</table>\n",
       "</div>"
      ],
      "text/plain": [
       "Interest_Rate              1         2         3\n",
       "Inquiries_Last_6Mo                              \n",
       "0                   0.257375  0.456826  0.285799\n",
       "1                   0.170411  0.419722  0.409867\n",
       "2                   0.130463  0.384244  0.485293\n",
       "3                   0.109782  0.350897  0.539321\n",
       "4                   0.089113  0.337138  0.573749\n",
       "5                   0.079016  0.360104  0.560881\n",
       "6                   0.062687  0.414925  0.522388\n",
       "7                   0.000000  0.750000  0.250000\n",
       "8                   0.125000  0.000000  0.875000"
      ]
     },
     "execution_count": 126,
     "metadata": {},
     "output_type": "execute_result"
    }
   ],
   "source": [
    "pd.crosstab(index = train.Inquiries_Last_6Mo, columns = train.Interest_Rate, normalize = 'index')"
   ]
  },
  {
   "cell_type": "code",
   "execution_count": 121,
   "metadata": {},
   "outputs": [
    {
     "data": {
      "text/html": [
       "<div>\n",
       "<style scoped>\n",
       "    .dataframe tbody tr th:only-of-type {\n",
       "        vertical-align: middle;\n",
       "    }\n",
       "\n",
       "    .dataframe tbody tr th {\n",
       "        vertical-align: top;\n",
       "    }\n",
       "\n",
       "    .dataframe thead th {\n",
       "        text-align: right;\n",
       "    }\n",
       "</style>\n",
       "<table border=\"1\" class=\"dataframe\">\n",
       "  <thead>\n",
       "    <tr style=\"text-align: right;\">\n",
       "      <th></th>\n",
       "      <th>Loan_ID</th>\n",
       "      <th>Loan_Amount_Requested</th>\n",
       "      <th>Length_Employed</th>\n",
       "      <th>Home_Owner</th>\n",
       "      <th>Annual_Income</th>\n",
       "      <th>Income_Verified</th>\n",
       "      <th>Purpose_Of_Loan</th>\n",
       "      <th>Debt_To_Income</th>\n",
       "      <th>Inquiries_Last_6Mo</th>\n",
       "      <th>Number_Open_Accounts</th>\n",
       "      <th>Total_Accounts</th>\n",
       "      <th>Gender</th>\n",
       "      <th>Interest_Rate</th>\n",
       "    </tr>\n",
       "  </thead>\n",
       "  <tbody>\n",
       "    <tr>\n",
       "      <th>0</th>\n",
       "      <td>10000001</td>\n",
       "      <td>7000.0</td>\n",
       "      <td>1</td>\n",
       "      <td>Rent</td>\n",
       "      <td>68000.0</td>\n",
       "      <td>not verified</td>\n",
       "      <td>car</td>\n",
       "      <td>18.37</td>\n",
       "      <td>0</td>\n",
       "      <td>9</td>\n",
       "      <td>14</td>\n",
       "      <td>Female</td>\n",
       "      <td>1</td>\n",
       "    </tr>\n",
       "    <tr>\n",
       "      <th>1</th>\n",
       "      <td>10000002</td>\n",
       "      <td>30000.0</td>\n",
       "      <td>4</td>\n",
       "      <td>Mortgage</td>\n",
       "      <td>68000.0</td>\n",
       "      <td>VERIFIED - income</td>\n",
       "      <td>debt_consolidation</td>\n",
       "      <td>14.93</td>\n",
       "      <td>0</td>\n",
       "      <td>12</td>\n",
       "      <td>24</td>\n",
       "      <td>Female</td>\n",
       "      <td>3</td>\n",
       "    </tr>\n",
       "    <tr>\n",
       "      <th>2</th>\n",
       "      <td>10000003</td>\n",
       "      <td>24725.0</td>\n",
       "      <td>7</td>\n",
       "      <td>Mortgage</td>\n",
       "      <td>75566.4</td>\n",
       "      <td>VERIFIED - income source</td>\n",
       "      <td>debt_consolidation</td>\n",
       "      <td>15.88</td>\n",
       "      <td>0</td>\n",
       "      <td>12</td>\n",
       "      <td>16</td>\n",
       "      <td>Male</td>\n",
       "      <td>3</td>\n",
       "    </tr>\n",
       "    <tr>\n",
       "      <th>3</th>\n",
       "      <td>10000004</td>\n",
       "      <td>16000.0</td>\n",
       "      <td>1</td>\n",
       "      <td>Mortgage</td>\n",
       "      <td>56160.0</td>\n",
       "      <td>VERIFIED - income source</td>\n",
       "      <td>debt_consolidation</td>\n",
       "      <td>14.34</td>\n",
       "      <td>3</td>\n",
       "      <td>16</td>\n",
       "      <td>22</td>\n",
       "      <td>Male</td>\n",
       "      <td>3</td>\n",
       "    </tr>\n",
       "    <tr>\n",
       "      <th>4</th>\n",
       "      <td>10000005</td>\n",
       "      <td>17000.0</td>\n",
       "      <td>8</td>\n",
       "      <td>Own</td>\n",
       "      <td>96000.0</td>\n",
       "      <td>VERIFIED - income source</td>\n",
       "      <td>debt_consolidation</td>\n",
       "      <td>22.17</td>\n",
       "      <td>1</td>\n",
       "      <td>19</td>\n",
       "      <td>30</td>\n",
       "      <td>Female</td>\n",
       "      <td>1</td>\n",
       "    </tr>\n",
       "  </tbody>\n",
       "</table>\n",
       "</div>"
      ],
      "text/plain": [
       "    Loan_ID  Loan_Amount_Requested Length_Employed Home_Owner  Annual_Income  \\\n",
       "0  10000001                 7000.0               1       Rent        68000.0   \n",
       "1  10000002                30000.0               4   Mortgage        68000.0   \n",
       "2  10000003                24725.0               7   Mortgage        75566.4   \n",
       "3  10000004                16000.0               1   Mortgage        56160.0   \n",
       "4  10000005                17000.0               8        Own        96000.0   \n",
       "\n",
       "            Income_Verified     Purpose_Of_Loan  Debt_To_Income  \\\n",
       "0              not verified                 car           18.37   \n",
       "1         VERIFIED - income  debt_consolidation           14.93   \n",
       "2  VERIFIED - income source  debt_consolidation           15.88   \n",
       "3  VERIFIED - income source  debt_consolidation           14.34   \n",
       "4  VERIFIED - income source  debt_consolidation           22.17   \n",
       "\n",
       "   Inquiries_Last_6Mo  Number_Open_Accounts  Total_Accounts  Gender  \\\n",
       "0                   0                     9              14  Female   \n",
       "1                   0                    12              24  Female   \n",
       "2                   0                    12              16    Male   \n",
       "3                   3                    16              22    Male   \n",
       "4                   1                    19              30  Female   \n",
       "\n",
       "   Interest_Rate  \n",
       "0              1  \n",
       "1              3  \n",
       "2              3  \n",
       "3              3  \n",
       "4              1  "
      ]
     },
     "execution_count": 121,
     "metadata": {},
     "output_type": "execute_result"
    }
   ],
   "source": [
    "train.head()"
   ]
  },
  {
   "cell_type": "code",
   "execution_count": 18,
   "metadata": {},
   "outputs": [
    {
     "data": {
      "text/plain": [
       "Male      117176\n",
       "Female     47133\n",
       "Name: Gender, dtype: int64"
      ]
     },
     "execution_count": 18,
     "metadata": {},
     "output_type": "execute_result"
    }
   ],
   "source": [
    "train.Gender.value_counts()"
   ]
  },
  {
   "cell_type": "code",
   "execution_count": 146,
   "metadata": {},
   "outputs": [],
   "source": [
    "train.Gender.replace(\"Male\", \"0\", regex = True, inplace = True)\n",
    "train.Gender.replace(\"Female\", \"1\", regex = True, inplace = True)"
   ]
  },
  {
   "cell_type": "markdown",
   "metadata": {},
   "source": [
    "## Modeling"
   ]
  },
  {
   "cell_type": "code",
   "execution_count": 127,
   "metadata": {},
   "outputs": [],
   "source": [
    "from sklearn.model_selection import train_test_split\n",
    "from sklearn.ensemble import RandomForestClassifier"
   ]
  },
  {
   "cell_type": "code",
   "execution_count": 190,
   "metadata": {},
   "outputs": [
    {
     "data": {
      "text/plain": [
       "((164309, 11), (164309,))"
      ]
     },
     "execution_count": 190,
     "metadata": {},
     "output_type": "execute_result"
    }
   ],
   "source": [
    "y = train['Interest_Rate']\n",
    "X = train.drop('Interest_Rate', axis = 1)\n",
    "X = X.drop('Loan_ID', axis = 1)\n",
    "X.shape, y.shape"
   ]
  },
  {
   "cell_type": "code",
   "execution_count": 171,
   "metadata": {},
   "outputs": [
    {
     "data": {
      "text/plain": [
       "Index(['Loan_ID', 'Loan_Amount_Requested', 'Length_Employed', 'Home_Owner',\n",
       "       'Annual_Income', 'Income_Verified', 'Purpose_Of_Loan', 'Debt_To_Income',\n",
       "       'Inquiries_Last_6Mo', 'Number_Open_Accounts', 'Total_Accounts',\n",
       "       'Gender', 'Interest_Rate'],\n",
       "      dtype='object')"
      ]
     },
     "execution_count": 171,
     "metadata": {},
     "output_type": "execute_result"
    }
   ],
   "source": [
    "train.columns"
   ]
  },
  {
   "cell_type": "code",
   "execution_count": 185,
   "metadata": {},
   "outputs": [],
   "source": [
    "X = X.drop(['Gender'], axis = 1)"
   ]
  },
  {
   "cell_type": "code",
   "execution_count": 191,
   "metadata": {},
   "outputs": [],
   "source": [
    "X_train, X_val, y_train, y_val = train_test_split(X, y, test_size = 0.2, random_state = 1)"
   ]
  },
  {
   "cell_type": "code",
   "execution_count": 192,
   "metadata": {},
   "outputs": [
    {
     "data": {
      "text/plain": [
       "((131447, 11), (32862, 11))"
      ]
     },
     "execution_count": 192,
     "metadata": {},
     "output_type": "execute_result"
    }
   ],
   "source": [
    "X_train.shape, X_val.shape"
   ]
  },
  {
   "cell_type": "code",
   "execution_count": 195,
   "metadata": {},
   "outputs": [],
   "source": [
    "rf_clf = RandomForestClassifier(n_estimators = 500, max_features = 'auto', criterion = 'entropy', class_weight = 'balanced')"
   ]
  },
  {
   "cell_type": "markdown",
   "metadata": {},
   "source": [
    "### Training accuracy"
   ]
  },
  {
   "cell_type": "code",
   "execution_count": 206,
   "metadata": {},
   "outputs": [
    {
     "data": {
      "text/plain": [
       "1.0"
      ]
     },
     "execution_count": 206,
     "metadata": {},
     "output_type": "execute_result"
    }
   ],
   "source": [
    "rf_clf.score(X_train, y_train)"
   ]
  },
  {
   "cell_type": "markdown",
   "metadata": {},
   "source": [
    "### Validation accuracy"
   ]
  },
  {
   "cell_type": "code",
   "execution_count": 196,
   "metadata": {},
   "outputs": [
    {
     "data": {
      "text/plain": [
       "0.5054774511593938"
      ]
     },
     "execution_count": 196,
     "metadata": {},
     "output_type": "execute_result"
    }
   ],
   "source": [
    "rf_clf.fit(X_train, y_train)\n",
    "y_pred = rf_clf.predict(X_val)\n",
    "accuracy = rf_clf.score(X_val, y_val)\n",
    "accuracy"
   ]
  },
  {
   "cell_type": "markdown",
   "metadata": {},
   "source": [
    "## Result log:\n",
    "\n",
    "1. Accuracy 1 = 50.3% (Only remove Loan ID and delinquincy)\n",
    "2. Accuracy 2 - 46% (On removing multiple features)\n",
    "3. Accuracy 3 - 49.7% (On removing two features)\n",
    "4. Accuracy 4 - (On removing only Gender)"
   ]
  },
  {
   "cell_type": "code",
   "execution_count": 169,
   "metadata": {},
   "outputs": [],
   "source": [
    "import numpy as np"
   ]
  },
  {
   "cell_type": "code",
   "execution_count": 170,
   "metadata": {},
   "outputs": [
    {
     "data": {
      "text/plain": [
       "([<matplotlib.axis.XTick at 0x2ac6959e0f0>,\n",
       "  <matplotlib.axis.XTick at 0x2ac0aa78c50>,\n",
       "  <matplotlib.axis.XTick at 0x2ac0aa78780>,\n",
       "  <matplotlib.axis.XTick at 0x2ac695d0588>,\n",
       "  <matplotlib.axis.XTick at 0x2ac695d4908>,\n",
       "  <matplotlib.axis.XTick at 0x2ac695d6e10>,\n",
       "  <matplotlib.axis.XTick at 0x2ac01f9b748>,\n",
       "  <matplotlib.axis.XTick at 0x2ac695d7208>,\n",
       "  <matplotlib.axis.XTick at 0x2ac695db400>,\n",
       "  <matplotlib.axis.XTick at 0x2ac695ded30>,\n",
       "  <matplotlib.axis.XTick at 0x2ac695e3ba8>],\n",
       " <a list of 11 Text xticklabel objects>)"
      ]
     },
     "execution_count": 170,
     "metadata": {},
     "output_type": "execute_result"
    },
    {
     "data": {
      "image/png": "[encoded data removed]",
      "text/plain": [
       "<Figure size 864x432 with 1 Axes>"
      ]
     },
     "metadata": {
      "needs_background": "light"
     },
     "output_type": "display_data"
    }
   ],
   "source": [
    "importances = rf_clf.feature_importances_\n",
    "indices = np.argsort(rf_clf.feature_importances_)[::-1]\n",
    "plt.figure(figsize=(12, 6))\n",
    "plt.bar(range(1, 12), importances[indices], align=\"center\")\n",
    "\n",
    "plt.xticks(range(1, 12), X_train.columns[indices], rotation=90)"
   ]
  },
  {
   "cell_type": "code",
   "execution_count": 198,
   "metadata": {},
   "outputs": [
    {
     "name": "stdout",
     "output_type": "stream",
     "text": [
      "LogisticRegression LogLoss 1.0496239332149244\n"
     ]
    }
   ],
   "source": [
    "from sklearn.preprocessing import LabelEncoder\n",
    "from sklearn.linear_model import LogisticRegression\n",
    "from sklearn.metrics import log_loss\n",
    "\n",
    "lb = LabelEncoder()\n",
    "train_Y = lb.fit_transform(y_train)\n",
    "val_y = lb.transform(y_val)\n",
    "\n",
    "logreg = LogisticRegression(random_state = 42)\n",
    "logreg.fit(X_train, train_Y)\n",
    "logreg.predict(X_val)\n",
    "print('LogisticRegression LogLoss {score}'.format(score=log_loss(y_val, logreg.predict_proba(X_val))))\n",
    "\n",
    "#clfs.append(logreg)\n"
   ]
  },
  {
   "cell_type": "markdown",
   "metadata": {},
   "source": [
    "# Testing"
   ]
  },
  {
   "cell_type": "code",
   "execution_count": 155,
   "metadata": {},
   "outputs": [],
   "source": [
    "test = pd.read_csv(\"C:/Users/zenit/Desktop/Sahal backup/Northeastern University/Datasets/AV Banking/test.csv\")"
   ]
  },
  {
   "cell_type": "code",
   "execution_count": 156,
   "metadata": {},
   "outputs": [],
   "source": [
    "del test['Months_Since_Deliquency']\n",
    "\n",
    "test['Loan_Amount_Requested'] = test['Loan_Amount_Requested'].replace(\",\", \"\", regex = True)\n",
    "test['Loan_Amount_Requested'] = test['Loan_Amount_Requested'].astype(float)\n",
    "\n",
    "test['Debt_To_Income'] = test['Debt_To_Income'].astype(float)\n",
    "test['Inquiries_Last_6Mo'] = test['Inquiries_Last_6Mo'].astype(int)\n",
    "test['Number_Open_Accounts'] = test['Number_Open_Accounts'].astype(int)\n",
    "test['Total_Accounts'] = test['Total_Accounts'].astype(int)\n",
    "\n",
    "\n",
    "test.Length_Employed.ffill(axis = 0, inplace = True)\n",
    "\n",
    "\n",
    "test.Length_Employed.replace(\"years\", \"\", regex = True, inplace = True)\n",
    "test.Length_Employed.replace(\"year\", \"\", regex = True, inplace = True)\n",
    "test.Length_Employed.replace('\\+', \"\", regex = True, inplace = True)\n",
    "test.Length_Employed.replace(\"<\", \"\", regex = True, inplace = True)\n",
    "test.Length_Employed.replace(\" \", \"\", regex = True, inplace = True)\n",
    "\n",
    "test.Home_Owner.ffill(axis = 0, inplace = True)\n",
    "\n",
    "test.Home_Owner.replace(\"Mortgage\", \"0\", regex = True, inplace = True)\n",
    "test.Home_Owner.replace(\"None\", \"1\", regex = True, inplace = True)\n",
    "test.Home_Owner.replace(\"Other\", \"2\", regex = True, inplace = True)\n",
    "test.Home_Owner.replace(\"Own\", \"3\", regex = True, inplace = True)\n",
    "test.Home_Owner.replace(\"Rent\", \"4\", regex = True, inplace = True)\n",
    "\n",
    "test.Annual_Income.ffill(axis = 0, inplace = True)\n",
    "\n",
    "test.Income_Verified.replace(\"VERIFIED - income source\", \"1\", regex = True, inplace = True)\n",
    "test.Income_Verified.replace(\"VERIFIED - income\", \"0\", regex = True, inplace = True)\n",
    "test.Income_Verified.replace(\"not verified\", \"2\", regex = True, inplace = True)\n",
    "\n",
    "\n",
    "test.Purpose_Of_Loan.replace(\"debt_consolidation\", \"0\", inplace = True, regex = True)\n",
    "test.Purpose_Of_Loan.replace(\"credit_card\", \"1\", inplace = True, regex = True)\n",
    "test.Purpose_Of_Loan.replace(\"home_improvement\", \"2\", inplace = True, regex = True)\n",
    "test.Purpose_Of_Loan.replace(\"other\", \"3\", inplace = True, regex = True)\n",
    "test.Purpose_Of_Loan.replace(\"major_purchase\", \"4\", inplace = True, regex = True)\n",
    "test.Purpose_Of_Loan.replace(\"small_business\", \"5\", inplace = True, regex = True)\n",
    "test.Purpose_Of_Loan.replace(\"car\", \"6\", inplace = True, regex = True)\n",
    "test.Purpose_Of_Loan.replace(\"medical\", \"7\", inplace = True, regex = True)\n",
    "test.Purpose_Of_Loan.replace(\"moving\", \"8\", inplace = True, regex = True)\n",
    "test.Purpose_Of_Loan.replace(\"vacation\", \"9\", inplace = True, regex = True)\n",
    "test.Purpose_Of_Loan.replace(\"wedding\", \"10\", inplace = True, regex = True)\n",
    "test.Purpose_Of_Loan.replace(\"house\", \"11\", inplace = True, regex = True)\n",
    "test.Purpose_Of_Loan.replace(\"renewable_energy\", \"12\", inplace = True, regex = True)\n",
    "test.Purpose_Of_Loan.replace(\"educational\", \"13\", inplace = True, regex = True)\n",
    "\n",
    "\n",
    "test.Gender.replace(\"Male\", \"0\", regex = True, inplace = True)\n",
    "test.Gender.replace(\"Female\", \"1\", regex = True, inplace = True)\n",
    "\n",
    "test.drop('Loan_ID', axis = 1, inplace = True)"
   ]
  },
  {
   "cell_type": "code",
   "execution_count": 165,
   "metadata": {},
   "outputs": [
    {
     "data": {
      "text/plain": [
       "Loan_Amount_Requested    0\n",
       "Length_Employed          0\n",
       "Home_Owner               0\n",
       "Annual_Income            0\n",
       "Income_Verified          0\n",
       "Purpose_Of_Loan          0\n",
       "Debt_To_Income           0\n",
       "Inquiries_Last_6Mo       0\n",
       "Number_Open_Accounts     0\n",
       "Total_Accounts           0\n",
       "Gender                   0\n",
       "dtype: int64"
      ]
     },
     "execution_count": 165,
     "metadata": {},
     "output_type": "execute_result"
    }
   ],
   "source": [
    "test.Home_Owner.ffill(axis = 0, inplace = True)\n",
    "test.isnull().sum()"
   ]
  },
  {
   "cell_type": "code",
   "execution_count": 200,
   "metadata": {},
   "outputs": [],
   "source": [
    "#y_test_pred = rf_clf.predict(test)\n",
    "y_test_pred = logreg.predict(test)"
   ]
  },
  {
   "cell_type": "code",
   "execution_count": 201,
   "metadata": {},
   "outputs": [],
   "source": [
    "pred = pd.DataFrame(y_test_pred)\n",
    "pred.to_csv(\"C:/Users/zenit/Desktop/Sahal backup/Northeastern University/Datasets/AV Banking/pred2.csv\")"
   ]
  }
 ],
 "metadata": {
  "kernelspec": {
   "display_name": "Python 3",
   "language": "python",
   "name": "python3"
  },
  "language_info": {
   "codemirror_mode": {
    "name": "ipython",
    "version": 3
   },
   "file_extension": ".py",
   "mimetype": "text/x-python",
   "name": "python",
   "nbconvert_exporter": "python",
   "pygments_lexer": "ipython3",
   "version": "3.6.5"
  }
 },
 "nbformat": 4,
 "nbformat_minor": 2
}
